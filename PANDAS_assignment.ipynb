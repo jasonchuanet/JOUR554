{
 "cells": [
  {
   "cell_type": "markdown",
   "id": "17c9ddbd-3174-4e9e-ae3d-987d405f286a",
   "metadata": {},
   "source": [
    "# 1. Create a new notebook in Jupyter Lab"
   ]
  },
  {
   "cell_type": "markdown",
   "id": "a83861e3-9069-465d-b0f6-664026806ef9",
   "metadata": {},
   "source": [
    "Hello world!\n",
    "\n",
    "## Assignment: Pandas practice\n",
    "This week we're also going to have a small assignment involving our new Python/Pandas skills inside Jupyter Notebooks.\n",
    "It's not due until the start of class, Tuesday, October 12. Whew. \n",
    "\n",
    "https://github.com/rebel1804/JOUR554"
   ]
  },
  {
   "cell_type": "markdown",
   "id": "c151f0a7-bfc5-4bb2-96a3-bcb55e80ef0b",
   "metadata": {},
   "source": [
    "# 2. Import Pandas and any other Python modules you need\n"
   ]
  },
  {
   "cell_type": "code",
   "execution_count": 1,
   "id": "bf60bf8a-cc4f-40bf-a284-0de34183b9a5",
   "metadata": {},
   "outputs": [],
   "source": [
    "import pandas as pd"
   ]
  },
  {
   "cell_type": "markdown",
   "id": "4b2ab6f6-6d43-4107-ae22-93d176b81680",
   "metadata": {},
   "source": [
    "# 3. Read a table from a CSV or Excel sheet and turn it into a dataframe\n"
   ]
  },
  {
   "cell_type": "code",
   "execution_count": 2,
   "id": "b3286cf2-3ada-491d-a40a-e03b4cd5de4d",
   "metadata": {},
   "outputs": [
    {
     "data": {
      "text/html": [
       "<div>\n",
       "<style scoped>\n",
       "    .dataframe tbody tr th:only-of-type {\n",
       "        vertical-align: middle;\n",
       "    }\n",
       "\n",
       "    .dataframe tbody tr th {\n",
       "        vertical-align: top;\n",
       "    }\n",
       "\n",
       "    .dataframe thead th {\n",
       "        text-align: right;\n",
       "    }\n",
       "</style>\n",
       "<table border=\"1\" class=\"dataframe\">\n",
       "  <thead>\n",
       "    <tr style=\"text-align: right;\">\n",
       "      <th></th>\n",
       "      <th>Street ID</th>\n",
       "      <th>Street Name</th>\n",
       "      <th>Street Suffix</th>\n",
       "      <th>Street Suffix Direction</th>\n",
       "      <th>Official Street Name</th>\n",
       "      <th>Thomas Brothers Map</th>\n",
       "      <th>Street Type</th>\n",
       "    </tr>\n",
       "  </thead>\n",
       "  <tbody>\n",
       "    <tr>\n",
       "      <th>0</th>\n",
       "      <td>2013.0</td>\n",
       "      <td>UNION</td>\n",
       "      <td>AVE</td>\n",
       "      <td>NaN</td>\n",
       "      <td>UNION AVENUE</td>\n",
       "      <td>634D2</td>\n",
       "      <td>PUBLIC STREET NAMES</td>\n",
       "    </tr>\n",
       "    <tr>\n",
       "      <th>1</th>\n",
       "      <td>2523.0</td>\n",
       "      <td>SPRING</td>\n",
       "      <td>ST</td>\n",
       "      <td>NaN</td>\n",
       "      <td>SPRING STREET</td>\n",
       "      <td>634H2</td>\n",
       "      <td>PUBLIC STREET NAMES</td>\n",
       "    </tr>\n",
       "    <tr>\n",
       "      <th>2</th>\n",
       "      <td>2221.0</td>\n",
       "      <td>TEXAS</td>\n",
       "      <td>AVE</td>\n",
       "      <td>NaN</td>\n",
       "      <td>TEXAS AVENUE</td>\n",
       "      <td>631J5</td>\n",
       "      <td>PUBLIC STREET NAMES</td>\n",
       "    </tr>\n",
       "    <tr>\n",
       "      <th>3</th>\n",
       "      <td>8199.0</td>\n",
       "      <td>CARMONA</td>\n",
       "      <td>AVE</td>\n",
       "      <td>NaN</td>\n",
       "      <td>CARMONA AVENUE</td>\n",
       "      <td>633C4</td>\n",
       "      <td>PUBLIC STREET NAMES</td>\n",
       "    </tr>\n",
       "    <tr>\n",
       "      <th>4</th>\n",
       "      <td>3268.0</td>\n",
       "      <td>RELIANCE</td>\n",
       "      <td>ST</td>\n",
       "      <td>NaN</td>\n",
       "      <td>RELIANCE STREET</td>\n",
       "      <td>502D7</td>\n",
       "      <td>PUBLIC STREET NAMES</td>\n",
       "    </tr>\n",
       "    <tr>\n",
       "      <th>...</th>\n",
       "      <td>...</td>\n",
       "      <td>...</td>\n",
       "      <td>...</td>\n",
       "      <td>...</td>\n",
       "      <td>...</td>\n",
       "      <td>...</td>\n",
       "      <td>...</td>\n",
       "    </tr>\n",
       "    <tr>\n",
       "      <th>11503</th>\n",
       "      <td>11582.0</td>\n",
       "      <td>CORTEZ</td>\n",
       "      <td>LANE</td>\n",
       "      <td>NaN</td>\n",
       "      <td>CORTEZ LANE</td>\n",
       "      <td>501J6</td>\n",
       "      <td>PRIVATE ROADWAY NAMES</td>\n",
       "    </tr>\n",
       "    <tr>\n",
       "      <th>11504</th>\n",
       "      <td>11580.0</td>\n",
       "      <td>CORTERRA</td>\n",
       "      <td>LANE</td>\n",
       "      <td>NaN</td>\n",
       "      <td>CORTERRA LANE</td>\n",
       "      <td>501J6</td>\n",
       "      <td>PRIVATE ROADWAY NAMES</td>\n",
       "    </tr>\n",
       "    <tr>\n",
       "      <th>11505</th>\n",
       "      <td>11581.0</td>\n",
       "      <td>CORBINA</td>\n",
       "      <td>LANE</td>\n",
       "      <td>NaN</td>\n",
       "      <td>CORBINA LANE</td>\n",
       "      <td>501J6</td>\n",
       "      <td>PRIVATE ROADWAY NAMES</td>\n",
       "    </tr>\n",
       "    <tr>\n",
       "      <th>11506</th>\n",
       "      <td>11583.0</td>\n",
       "      <td>FIG TREE</td>\n",
       "      <td>LANE</td>\n",
       "      <td>NaN</td>\n",
       "      <td>FIG TREE LANE</td>\n",
       "      <td>500A2</td>\n",
       "      <td>PRIVATE STREET NAMES</td>\n",
       "    </tr>\n",
       "    <tr>\n",
       "      <th>11507</th>\n",
       "      <td>11584.0</td>\n",
       "      <td>BEE CANYON</td>\n",
       "      <td>ROAD</td>\n",
       "      <td>NaN</td>\n",
       "      <td>BEE CANYON ROAD</td>\n",
       "      <td>500A2</td>\n",
       "      <td>PRIVATE STREET NAMES</td>\n",
       "    </tr>\n",
       "  </tbody>\n",
       "</table>\n",
       "<p>11508 rows × 7 columns</p>\n",
       "</div>"
      ],
      "text/plain": [
       "       Street ID Street Name Street Suffix Street Suffix Direction  \\\n",
       "0         2013.0       UNION           AVE                     NaN   \n",
       "1         2523.0      SPRING            ST                     NaN   \n",
       "2         2221.0       TEXAS           AVE                     NaN   \n",
       "3         8199.0     CARMONA           AVE                     NaN   \n",
       "4         3268.0    RELIANCE            ST                     NaN   \n",
       "...          ...         ...           ...                     ...   \n",
       "11503    11582.0      CORTEZ          LANE                     NaN   \n",
       "11504    11580.0    CORTERRA          LANE                     NaN   \n",
       "11505    11581.0     CORBINA          LANE                     NaN   \n",
       "11506    11583.0    FIG TREE          LANE                     NaN   \n",
       "11507    11584.0  BEE CANYON          ROAD                     NaN   \n",
       "\n",
       "      Official Street Name Thomas Brothers Map            Street Type  \n",
       "0             UNION AVENUE               634D2    PUBLIC STREET NAMES  \n",
       "1            SPRING STREET               634H2    PUBLIC STREET NAMES  \n",
       "2             TEXAS AVENUE               631J5    PUBLIC STREET NAMES  \n",
       "3           CARMONA AVENUE               633C4    PUBLIC STREET NAMES  \n",
       "4          RELIANCE STREET               502D7    PUBLIC STREET NAMES  \n",
       "...                    ...                 ...                    ...  \n",
       "11503          CORTEZ LANE               501J6  PRIVATE ROADWAY NAMES  \n",
       "11504        CORTERRA LANE               501J6  PRIVATE ROADWAY NAMES  \n",
       "11505         CORBINA LANE               501J6  PRIVATE ROADWAY NAMES  \n",
       "11506        FIG TREE LANE               500A2   PRIVATE STREET NAMES  \n",
       "11507      BEE CANYON ROAD               500A2   PRIVATE STREET NAMES  \n",
       "\n",
       "[11508 rows x 7 columns]"
      ]
     },
     "execution_count": 2,
     "metadata": {},
     "output_type": "execute_result"
    }
   ],
   "source": [
    "streets = pd.read_csv(\"data/la_streets/Street_Names.csv\")\n",
    "streets"
   ]
  },
  {
   "cell_type": "markdown",
   "id": "0e54fe80-bfe1-45c0-a33a-9261216c1bfe",
   "metadata": {},
   "source": [
    "# 4. Run basic descriptives on a few columns in the dataframe"
   ]
  },
  {
   "cell_type": "code",
   "execution_count": 14,
   "id": "79b676ef-5e61-4fd3-bd8f-7114270157c2",
   "metadata": {},
   "outputs": [
    {
     "name": "stdout",
     "output_type": "stream",
     "text": [
      "<class 'pandas.core.frame.DataFrame'>\n",
      "RangeIndex: 11508 entries, 0 to 11507\n",
      "Data columns (total 7 columns):\n",
      " #   Column                   Non-Null Count  Dtype  \n",
      "---  ------                   --------------  -----  \n",
      " 0   Street ID                11491 non-null  float64\n",
      " 1   Street Name              11491 non-null  object \n",
      " 2   Street Suffix            11101 non-null  object \n",
      " 3   Street Suffix Direction  60 non-null     object \n",
      " 4   Official Street Name     11491 non-null  object \n",
      " 5   Thomas Brothers Map      11137 non-null  object \n",
      " 6   Street Type              11491 non-null  object \n",
      "dtypes: float64(1), object(6)\n",
      "memory usage: 629.5+ KB\n"
     ]
    }
   ],
   "source": [
    "streets.info()"
   ]
  },
  {
   "cell_type": "code",
   "execution_count": 18,
   "id": "7b67eaaf-bc1c-4a71-8a51-7dc725ecc541",
   "metadata": {},
   "outputs": [
    {
     "data": {
      "text/plain": [
       "0                        UNION AVENUE\n",
       "2                        TEXAS AVENUE\n",
       "3                      CARMONA AVENUE\n",
       "19                       ILONA AVENUE\n",
       "20                    KEY WEST AVENUE\n",
       "                     ...             \n",
       "11382    GEORGE DE LA TORRE JR AVENUE\n",
       "11392                     ALTA AVENUE\n",
       "11435                   DAYTON AVENUE\n",
       "11443                GREENGATE AVENUE\n",
       "11490                   THOMAS AVENUE\n",
       "Name: Official Street Name, Length: 2300, dtype: object"
      ]
     },
     "execution_count": 18,
     "metadata": {},
     "output_type": "execute_result"
    }
   ],
   "source": [
    "#What streets end in AVE?\n",
    "streets[\"Official Street Name\"].where(streets[\"Street Suffix\"] == \"AVE\").dropna()"
   ]
  },
  {
   "cell_type": "code",
   "execution_count": 20,
   "id": "98f2cd31-9514-4ade-b0f3-fd2c4209e2c8",
   "metadata": {},
   "outputs": [
    {
     "data": {
      "text/plain": [
       "22ND STREET           3\n",
       "PARK AVENUE           3\n",
       "17TH STREET           3\n",
       "TULSA STREET          3\n",
       "29TH PLACE            3\n",
       "                     ..\n",
       "BECKMAN ROAD          1\n",
       "EDGECLIFF AVENUE      1\n",
       "PAUMA VALLEY DRIVE    1\n",
       "ALGUNAS ROAD          1\n",
       "MASSELIN AVENUE       1\n",
       "Name: Official Street Name, Length: 10853, dtype: int64"
      ]
     },
     "execution_count": 20,
     "metadata": {},
     "output_type": "execute_result"
    }
   ],
   "source": [
    "#Does MODE work on a text series? - NO\n",
    "streets[\"Official Street Name\"].value_counts()"
   ]
  },
  {
   "cell_type": "markdown",
   "id": "c6dca644-9b9d-46a1-b060-bb1946de7a8c",
   "metadata": {},
   "source": [
    "# 5. Document your work using markdown headers in the notebook\n"
   ]
  },
  {
   "cell_type": "markdown",
   "id": "8302be49-582a-4c53-b00e-2b8de7bf5d77",
   "metadata": {},
   "source": [
    ":)"
   ]
  }
 ],
 "metadata": {
  "kernelspec": {
   "display_name": "Python 3.8.8 64-bit ('base': conda)",
   "language": "python",
   "name": "python388jvsc74a57bd0b64057e63add2b45b1ffc7eab9b09c8889b419c878e2fdf0d08f837f0fc857a7"
  },
  "language_info": {
   "codemirror_mode": {
    "name": "ipython",
    "version": 3
   },
   "file_extension": ".py",
   "mimetype": "text/x-python",
   "name": "python",
   "nbconvert_exporter": "python",
   "pygments_lexer": "ipython3",
   "version": "3.8.8"
  }
 },
 "nbformat": 4,
 "nbformat_minor": 5
}
